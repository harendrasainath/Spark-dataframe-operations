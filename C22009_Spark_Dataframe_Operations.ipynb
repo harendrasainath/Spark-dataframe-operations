{
  "nbformat": 4,
  "nbformat_minor": 0,
  "metadata": {
    "colab": {
      "provenance": []
    },
    "kernelspec": {
      "name": "python3",
      "display_name": "Python 3"
    },
    "language_info": {
      "name": "python"
    }
  },
  "cells": [
    {
      "cell_type": "markdown",
      "source": [
        "# Initializing"
      ],
      "metadata": {
        "id": "TdAdXzgvxcjX"
      }
    },
    {
      "cell_type": "code",
      "source": [
        "!pip3 install -q pyspark"
      ],
      "metadata": {
        "colab": {
          "base_uri": "https://localhost:8080/"
        },
        "id": "X00uRrNZxfxI",
        "outputId": "2ead1ae3-c62c-48f1-f816-e1b246064e00"
      },
      "execution_count": null,
      "outputs": [
        {
          "output_type": "stream",
          "name": "stdout",
          "text": [
            "\u001b[K     |████████████████████████████████| 281.4 MB 36 kB/s \n",
            "\u001b[K     |████████████████████████████████| 198 kB 57.2 MB/s \n",
            "\u001b[?25h  Building wheel for pyspark (setup.py) ... \u001b[?25l\u001b[?25hdone\n"
          ]
        }
      ]
    },
    {
      "cell_type": "code",
      "source": [
        "from pyspark.sql import SparkSession\n",
        "spark = SparkSession.builder.master(\"local[*]\").getOrCreate()\n",
        "sc = spark.sparkContext\n",
        "sc"
      ],
      "metadata": {
        "colab": {
          "base_uri": "https://localhost:8080/",
          "height": 196
        },
        "id": "7pLle6ADxjso",
        "outputId": "71fa4ec2-4817-4aaf-9df1-fbc7521f84a0"
      },
      "execution_count": null,
      "outputs": [
        {
          "output_type": "execute_result",
          "data": {
            "text/plain": [
              "<SparkContext master=local[*] appName=pyspark-shell>"
            ],
            "text/html": [
              "\n",
              "        <div>\n",
              "            <p><b>SparkContext</b></p>\n",
              "\n",
              "            <p><a href=\"http://5802cfbd00cc:4040\">Spark UI</a></p>\n",
              "\n",
              "            <dl>\n",
              "              <dt>Version</dt>\n",
              "                <dd><code>v3.2.1</code></dd>\n",
              "              <dt>Master</dt>\n",
              "                <dd><code>local[*]</code></dd>\n",
              "              <dt>AppName</dt>\n",
              "                <dd><code>pyspark-shell</code></dd>\n",
              "            </dl>\n",
              "        </div>\n",
              "        "
            ]
          },
          "metadata": {},
          "execution_count": 2
        }
      ]
    },
    {
      "cell_type": "markdown",
      "source": [
        "# Loading Data"
      ],
      "metadata": {
        "id": "Tx-DQ9pMxlTi"
      }
    },
    {
      "cell_type": "code",
      "source": [
        "bike = spark.read.format(\"csv\").option(\"header\", \"true\").option(\"inferSchema\", \"true\").load(\"/content/BIKE DETAILS.csv\")"
      ],
      "metadata": {
        "id": "2ZvsFHyuxnMS"
      },
      "execution_count": null,
      "outputs": []
    },
    {
      "cell_type": "code",
      "source": [
        "bike.printSchema()"
      ],
      "metadata": {
        "colab": {
          "base_uri": "https://localhost:8080/"
        },
        "id": "cZhVdqDhyF07",
        "outputId": "b3954330-157b-43ef-fe4a-ea6ead28dc8c"
      },
      "execution_count": null,
      "outputs": [
        {
          "output_type": "stream",
          "name": "stdout",
          "text": [
            "root\n",
            " |-- name: string (nullable = true)\n",
            " |-- selling_price: integer (nullable = true)\n",
            " |-- year: integer (nullable = true)\n",
            " |-- seller_type: string (nullable = true)\n",
            " |-- owner: string (nullable = true)\n",
            " |-- km_driven: integer (nullable = true)\n",
            " |-- ex_showroom_price: integer (nullable = true)\n",
            "\n"
          ]
        }
      ]
    },
    {
      "cell_type": "code",
      "source": [
        "bike.head(5)"
      ],
      "metadata": {
        "colab": {
          "base_uri": "https://localhost:8080/"
        },
        "id": "fk5UqGiAyIoa",
        "outputId": "1c113684-481e-4928-fa37-b9152d309957"
      },
      "execution_count": null,
      "outputs": [
        {
          "output_type": "execute_result",
          "data": {
            "text/plain": [
              "[Row(name='Royal Enfield Classic 350', selling_price=175000, year=2019, seller_type='Individual', owner='1st owner', km_driven=350, ex_showroom_price=None),\n",
              " Row(name='Honda Dio', selling_price=45000, year=2017, seller_type='Individual', owner='1st owner', km_driven=5650, ex_showroom_price=None),\n",
              " Row(name='Royal Enfield Classic Gunmetal Grey', selling_price=150000, year=2018, seller_type='Individual', owner='1st owner', km_driven=12000, ex_showroom_price=148114),\n",
              " Row(name='Yamaha Fazer FI V 2.0 [2016-2018]', selling_price=65000, year=2015, seller_type='Individual', owner='1st owner', km_driven=23000, ex_showroom_price=89643),\n",
              " Row(name='Yamaha SZ [2013-2014]', selling_price=20000, year=2011, seller_type='Individual', owner='2nd owner', km_driven=21000, ex_showroom_price=None)]"
            ]
          },
          "metadata": {},
          "execution_count": 13
        }
      ]
    },
    {
      "cell_type": "markdown",
      "source": [
        "# Data Manipulations"
      ],
      "metadata": {
        "id": "EdhAmbeVyO_r"
      }
    },
    {
      "cell_type": "code",
      "source": [
        "bike.show()"
      ],
      "metadata": {
        "colab": {
          "base_uri": "https://localhost:8080/"
        },
        "id": "kx5M4I95yRXD",
        "outputId": "229d6385-1156-4a4d-9bc6-012cb230b3ec"
      },
      "execution_count": null,
      "outputs": [
        {
          "output_type": "stream",
          "name": "stdout",
          "text": [
            "+--------------------+-------------+----+-----------+---------+---------+-----------------+\n",
            "|                name|selling_price|year|seller_type|    owner|km_driven|ex_showroom_price|\n",
            "+--------------------+-------------+----+-----------+---------+---------+-----------------+\n",
            "|Royal Enfield Cla...|       175000|2019| Individual|1st owner|      350|             null|\n",
            "|           Honda Dio|        45000|2017| Individual|1st owner|     5650|             null|\n",
            "|Royal Enfield Cla...|       150000|2018| Individual|1st owner|    12000|           148114|\n",
            "|Yamaha Fazer FI V...|        65000|2015| Individual|1st owner|    23000|            89643|\n",
            "|Yamaha SZ [2013-2...|        20000|2011| Individual|2nd owner|    21000|             null|\n",
            "|    Honda CB Twister|        18000|2010| Individual|1st owner|    60000|            53857|\n",
            "|Honda CB Hornet 160R|        78500|2018| Individual|1st owner|    17000|            87719|\n",
            "|Royal Enfield Bul...|       180000|2008| Individual|2nd owner|    39000|             null|\n",
            "|Hero Honda CBZ ex...|        30000|2010| Individual|1st owner|    32000|             null|\n",
            "|  Bajaj Discover 125|        50000|2016| Individual|1st owner|    42000|            60122|\n",
            "|         Yamaha FZ16|        35000|2015| Individual|1st owner|    32000|            78712|\n",
            "|          Honda Navi|        28000|2016| Individual|2nd owner|    10000|            47255|\n",
            "|Bajaj Avenger Str...|        80000|2018| Individual|1st owner|    21178|            95955|\n",
            "|       Yamaha YZF R3|       365000|2019| Individual|1st owner|     1127|           351680|\n",
            "|             Jawa 42|       185000|2020| Individual|1st owner|     1700|             null|\n",
            "|Suzuki Access 125...|        25000|2012| Individual|1st owner|    55000|            58314|\n",
            "|  Hero Honda Glamour|        25000|2006| Individual|1st owner|    27000|             null|\n",
            "|    Yamaha YZF R15 S|        40000|2010| Individual|2nd owner|    45000|           117926|\n",
            "|Royal Enfield Cla...|       150000|2018| Individual|1st owner|    23000|           148114|\n",
            "|         Yamaha FZ25|       120000|2018| Individual|1st owner|    39000|           132680|\n",
            "+--------------------+-------------+----+-----------+---------+---------+-----------------+\n",
            "only showing top 20 rows\n",
            "\n"
          ]
        }
      ]
    },
    {
      "cell_type": "code",
      "source": [
        "bike.count()"
      ],
      "metadata": {
        "colab": {
          "base_uri": "https://localhost:8080/"
        },
        "id": "Iog8ywJKyUmh",
        "outputId": "bb5d4d83-a7ca-4b91-ad9e-b9fcc2b5ad2c"
      },
      "execution_count": null,
      "outputs": [
        {
          "output_type": "execute_result",
          "data": {
            "text/plain": [
              "1061"
            ]
          },
          "metadata": {},
          "execution_count": 15
        }
      ]
    },
    {
      "cell_type": "code",
      "source": [
        "len(bike.columns)"
      ],
      "metadata": {
        "colab": {
          "base_uri": "https://localhost:8080/"
        },
        "id": "ZEBTC06zzGde",
        "outputId": "dff753fc-0750-40cb-ec81-7188c6d7e9f5"
      },
      "execution_count": null,
      "outputs": [
        {
          "output_type": "execute_result",
          "data": {
            "text/plain": [
              "7"
            ]
          },
          "metadata": {},
          "execution_count": 16
        }
      ]
    },
    {
      "cell_type": "code",
      "source": [
        "bike.columns"
      ],
      "metadata": {
        "colab": {
          "base_uri": "https://localhost:8080/"
        },
        "id": "gS0t5I0qzri4",
        "outputId": "f86cdc18-f2f0-46c8-eff7-25f15b960f5e"
      },
      "execution_count": null,
      "outputs": [
        {
          "output_type": "execute_result",
          "data": {
            "text/plain": [
              "['name',\n",
              " 'selling_price',\n",
              " 'year',\n",
              " 'seller_type',\n",
              " 'owner',\n",
              " 'km_driven',\n",
              " 'ex_showroom_price']"
            ]
          },
          "metadata": {},
          "execution_count": 17
        }
      ]
    },
    {
      "cell_type": "code",
      "source": [
        "bike.describe().show()"
      ],
      "metadata": {
        "colab": {
          "base_uri": "https://localhost:8080/"
        },
        "id": "u6KZsGzSzuMB",
        "outputId": "f1bbf7b6-eaba-4688-bbd1-d2396c42096c"
      },
      "execution_count": null,
      "outputs": [
        {
          "output_type": "stream",
          "name": "stdout",
          "text": [
            "+-------+---------+------------------+------------------+-----------+---------+------------------+-----------------+\n",
            "|summary|     name|     selling_price|              year|seller_type|    owner|         km_driven|ex_showroom_price|\n",
            "+-------+---------+------------------+------------------+-----------+---------+------------------+-----------------+\n",
            "|  count|     1061|              1061|              1061|       1061|     1061|              1061|              626|\n",
            "|   mean|     null|59638.151743638075|2013.8671065032988|       null|     null| 34359.83317624882|87958.71405750798|\n",
            "| stddev|     null| 56304.29197302415| 4.301191368192697|       null|     null|51623.152701596315|77496.58718945317|\n",
            "|    min|Activa 3g|              5000|              1988|     Dealer|1st owner|               350|            30490|\n",
            "|    max| Yo Style|            760000|              2020| Individual|4th owner|            880000|          1278000|\n",
            "+-------+---------+------------------+------------------+-----------+---------+------------------+-----------------+\n",
            "\n"
          ]
        }
      ]
    },
    {
      "cell_type": "code",
      "source": [
        "bike.describe('selling_price').show()"
      ],
      "metadata": {
        "colab": {
          "base_uri": "https://localhost:8080/"
        },
        "id": "Mi_hTy-r0A9K",
        "outputId": "cd2d0e5d-05a1-4cfd-f167-4968a1975ed5"
      },
      "execution_count": null,
      "outputs": [
        {
          "output_type": "stream",
          "name": "stdout",
          "text": [
            "+-------+------------------+\n",
            "|summary|     selling_price|\n",
            "+-------+------------------+\n",
            "|  count|              1061|\n",
            "|   mean|59638.151743638075|\n",
            "| stddev| 56304.29197302415|\n",
            "|    min|              5000|\n",
            "|    max|            760000|\n",
            "+-------+------------------+\n",
            "\n"
          ]
        }
      ]
    },
    {
      "cell_type": "code",
      "source": [
        "bike.describe('km_driven').show()"
      ],
      "metadata": {
        "colab": {
          "base_uri": "https://localhost:8080/"
        },
        "id": "Lzv5shHo0LUJ",
        "outputId": "cb5a8719-08ca-4e07-d0ef-5c9b892e540c"
      },
      "execution_count": null,
      "outputs": [
        {
          "output_type": "stream",
          "name": "stdout",
          "text": [
            "+-------+------------------+\n",
            "|summary|         km_driven|\n",
            "+-------+------------------+\n",
            "|  count|              1061|\n",
            "|   mean| 34359.83317624882|\n",
            "| stddev|51623.152701596315|\n",
            "|    min|               350|\n",
            "|    max|            880000|\n",
            "+-------+------------------+\n",
            "\n"
          ]
        }
      ]
    },
    {
      "cell_type": "code",
      "source": [
        "bike.describe('ex_showroom_price').show()"
      ],
      "metadata": {
        "colab": {
          "base_uri": "https://localhost:8080/"
        },
        "id": "UgDGIL7v0PWR",
        "outputId": "b5f440c9-aada-476d-c394-fbb50236298f"
      },
      "execution_count": null,
      "outputs": [
        {
          "output_type": "stream",
          "name": "stdout",
          "text": [
            "+-------+-----------------+\n",
            "|summary|ex_showroom_price|\n",
            "+-------+-----------------+\n",
            "|  count|              626|\n",
            "|   mean|87958.71405750798|\n",
            "| stddev|77496.58718945317|\n",
            "|    min|            30490|\n",
            "|    max|          1278000|\n",
            "+-------+-----------------+\n",
            "\n"
          ]
        }
      ]
    },
    {
      "cell_type": "code",
      "source": [
        "bike.select('name').distinct().count()"
      ],
      "metadata": {
        "colab": {
          "base_uri": "https://localhost:8080/"
        },
        "id": "fhdd0AN20Zl7",
        "outputId": "f6956421-75ae-4efb-8907-d85e67301993"
      },
      "execution_count": null,
      "outputs": [
        {
          "output_type": "execute_result",
          "data": {
            "text/plain": [
              "279"
            ]
          },
          "metadata": {},
          "execution_count": 25
        }
      ]
    },
    {
      "cell_type": "code",
      "source": [
        "bike.select('seller_type').distinct().count()"
      ],
      "metadata": {
        "colab": {
          "base_uri": "https://localhost:8080/"
        },
        "id": "DU-iCHDF0hS8",
        "outputId": "de0fb19e-dc17-4807-fecf-2aef2466168c"
      },
      "execution_count": null,
      "outputs": [
        {
          "output_type": "execute_result",
          "data": {
            "text/plain": [
              "2"
            ]
          },
          "metadata": {},
          "execution_count": 26
        }
      ]
    },
    {
      "cell_type": "code",
      "source": [
        "bike.select('owner').distinct().count()"
      ],
      "metadata": {
        "colab": {
          "base_uri": "https://localhost:8080/"
        },
        "id": "lsodmide0rdj",
        "outputId": "1411db6e-82f0-448c-ca05-f004c64b68b1"
      },
      "execution_count": null,
      "outputs": [
        {
          "output_type": "execute_result",
          "data": {
            "text/plain": [
              "4"
            ]
          },
          "metadata": {},
          "execution_count": 27
        }
      ]
    },
    {
      "cell_type": "code",
      "source": [
        "bike.crosstab('name', 'owner').show()"
      ],
      "metadata": {
        "colab": {
          "base_uri": "https://localhost:8080/"
        },
        "id": "54G07ZAS0u1B",
        "outputId": "375e5256-0c75-456b-b550-efdf948e27ee"
      },
      "execution_count": null,
      "outputs": [
        {
          "output_type": "stream",
          "name": "stdout",
          "text": [
            "+--------------------+---------+---------+---------+---------+\n",
            "|          name_owner|1st owner|2nd owner|3rd owner|4th owner|\n",
            "+--------------------+---------+---------+---------+---------+\n",
            "|   Yamaha YZF R15 V3|        2|        0|        0|        0|\n",
            "|     Honda Activa 4G|        3|        0|        0|        0|\n",
            "|   Bajaj Avenger 220|        3|        0|        0|        0|\n",
            "|       Honda Karizma|        2|        0|        0|        0|\n",
            "|Bajaj Avenger Cru...|        4|        0|        0|        0|\n",
            "|           TVS Sport|        3|        0|        0|        0|\n",
            "|   Hero Karizma 2014|        4|        1|        0|        0|\n",
            "|      Mahindra Rodeo|        1|        0|        0|        0|\n",
            "|          TVS Victor|        3|        0|        0|        0|\n",
            "|     Hero Honda Hunk|        7|        0|        0|        0|\n",
            "|Hero Splendor iSmart|        2|        1|        0|        0|\n",
            "|Hero Honda Passio...|        1|        0|        0|        0|\n",
            "|    Honda Activa 125|        4|        0|        0|        0|\n",
            "|   Suzuki Access 125|        9|        0|        0|        0|\n",
            "|Bajaj Pulsar 150 ...|        9|        2|        0|        0|\n",
            "|Royal Enfield Cla...|        1|        1|        0|        0|\n",
            "|  Yamaha Fascino 110|        4|        0|        0|        0|\n",
            "|          TVS Sport |        1|        0|        0|        0|\n",
            "|  Bajaj Discover 100|        8|        3|        0|        0|\n",
            "|Bajaj Discover 100 T|        4|        0|        0|        0|\n",
            "+--------------------+---------+---------+---------+---------+\n",
            "only showing top 20 rows\n",
            "\n"
          ]
        }
      ]
    },
    {
      "cell_type": "code",
      "source": [
        "bike.select('name','owner').dropDuplicates().show()"
      ],
      "metadata": {
        "colab": {
          "base_uri": "https://localhost:8080/"
        },
        "id": "SHr8sc6X0_iz",
        "outputId": "03925432-1231-4f3f-8a0f-d216eb2fcc00"
      },
      "execution_count": null,
      "outputs": [
        {
          "output_type": "stream",
          "name": "stdout",
          "text": [
            "+--------------------+---------+\n",
            "|                name|    owner|\n",
            "+--------------------+---------+\n",
            "|  Hero Splendor Plus|1st owner|\n",
            "|  Hero Honda Passion|2nd owner|\n",
            "|Honda CB Unicorn 150|1st owner|\n",
            "|Hero Karizma [200...|1st owner|\n",
            "|Bajaj Avenger 150...|1st owner|\n",
            "|       Jawa Standard|1st owner|\n",
            "|Kawasaki Ninja 65...|2nd owner|\n",
            "|Bajaj Avenger Cru...|1st owner|\n",
            "|Hero Honda Splend...|1st owner|\n",
            "|    Hero Glamour 125|1st owner|\n",
            "|Honda Activa 125 ...|1st owner|\n",
            "|          KTM RC 390|1st owner|\n",
            "|  Hero Xtreme Sports|1st owner|\n",
            "|KTM 390 Duke ABS ...|1st owner|\n",
            "|Royal Enfield Con...|1st owner|\n",
            "|         Bajaj Boxer|1st owner|\n",
            "|  Bajaj Discover 135|1st owner|\n",
            "|    Yamaha Fazer Dlx|1st owner|\n",
            "|      Mahindra Gusto|2nd owner|\n",
            "|   Hero Achiever 150|1st owner|\n",
            "+--------------------+---------+\n",
            "only showing top 20 rows\n",
            "\n"
          ]
        }
      ]
    },
    {
      "cell_type": "code",
      "source": [
        "bike.dropna().count()"
      ],
      "metadata": {
        "colab": {
          "base_uri": "https://localhost:8080/"
        },
        "id": "b7Njat8n1Jhi",
        "outputId": "c1f15586-8a9f-42cd-bbe4-1bf89a85ec57"
      },
      "execution_count": null,
      "outputs": [
        {
          "output_type": "execute_result",
          "data": {
            "text/plain": [
              "626"
            ]
          },
          "metadata": {},
          "execution_count": 30
        }
      ]
    },
    {
      "cell_type": "code",
      "source": [
        "bike.fillna(0).show(10)"
      ],
      "metadata": {
        "colab": {
          "base_uri": "https://localhost:8080/"
        },
        "id": "hqvyx6yn1YF6",
        "outputId": "6d35be9a-efbb-4a18-e431-c3da3688f73e"
      },
      "execution_count": null,
      "outputs": [
        {
          "output_type": "stream",
          "name": "stdout",
          "text": [
            "+--------------------+-------------+----+-----------+---------+---------+-----------------+\n",
            "|                name|selling_price|year|seller_type|    owner|km_driven|ex_showroom_price|\n",
            "+--------------------+-------------+----+-----------+---------+---------+-----------------+\n",
            "|Royal Enfield Cla...|       175000|2019| Individual|1st owner|      350|                0|\n",
            "|           Honda Dio|        45000|2017| Individual|1st owner|     5650|                0|\n",
            "|Royal Enfield Cla...|       150000|2018| Individual|1st owner|    12000|           148114|\n",
            "|Yamaha Fazer FI V...|        65000|2015| Individual|1st owner|    23000|            89643|\n",
            "|Yamaha SZ [2013-2...|        20000|2011| Individual|2nd owner|    21000|                0|\n",
            "|    Honda CB Twister|        18000|2010| Individual|1st owner|    60000|            53857|\n",
            "|Honda CB Hornet 160R|        78500|2018| Individual|1st owner|    17000|            87719|\n",
            "|Royal Enfield Bul...|       180000|2008| Individual|2nd owner|    39000|                0|\n",
            "|Hero Honda CBZ ex...|        30000|2010| Individual|1st owner|    32000|                0|\n",
            "|  Bajaj Discover 125|        50000|2016| Individual|1st owner|    42000|            60122|\n",
            "+--------------------+-------------+----+-----------+---------+---------+-----------------+\n",
            "only showing top 10 rows\n",
            "\n"
          ]
        }
      ]
    },
    {
      "cell_type": "code",
      "source": [
        "bike.filter(bike.selling_price>100000).count()"
      ],
      "metadata": {
        "colab": {
          "base_uri": "https://localhost:8080/"
        },
        "id": "3m4835pH1eCI",
        "outputId": "e9983312-4bb9-4ae9-825b-17b20d2502a9"
      },
      "execution_count": null,
      "outputs": [
        {
          "output_type": "execute_result",
          "data": {
            "text/plain": [
              "146"
            ]
          },
          "metadata": {},
          "execution_count": 34
        }
      ]
    },
    {
      "cell_type": "code",
      "source": [
        "bike.groupby('name').agg({'selling_price': 'mean'}).show()"
      ],
      "metadata": {
        "colab": {
          "base_uri": "https://localhost:8080/"
        },
        "id": "wSQ4taoK1uXi",
        "outputId": "02b42833-f258-468f-c0e4-3e27189c9ad7"
      },
      "execution_count": null,
      "outputs": [
        {
          "output_type": "stream",
          "name": "stdout",
          "text": [
            "+--------------------+------------------+\n",
            "|                name|avg(selling_price)|\n",
            "+--------------------+------------------+\n",
            "|           Hero Hunk|           31000.0|\n",
            "|            TVS Wego|           25000.0|\n",
            "|     Honda Activa 5G|55666.666666666664|\n",
            "|Bajaj Avenger Cru...|           81750.0|\n",
            "|         TVS Max DLX|           26000.0|\n",
            "|         Honda Shine|33399.933333333334|\n",
            "|   Yamaha FZ S V 2.0|           65562.5|\n",
            "|Hero Splendor iSmart|43333.333333333336|\n",
            "|Royal Enfield Thu...|          130000.0|\n",
            "|Honda Activa i [2...|           35000.0|\n",
            "|Royal Enfield Cla...|          160000.0|\n",
            "|Royal Enfield Cla...|          140000.0|\n",
            "|      TVS Victor GLX|           22500.0|\n",
            "|  UM Renegade Mojave|          170000.0|\n",
            "|        Vespa LX 125|           50000.0|\n",
            "|           Activa 4g|           40000.0|\n",
            "|          TVS Victor|           16000.0|\n",
            "|        Yamaha RX135|           65000.0|\n",
            "|Royal Enfield Thu...|102626.31578947368|\n",
            "|      Hyosung GT250R|          135000.0|\n",
            "+--------------------+------------------+\n",
            "only showing top 20 rows\n",
            "\n"
          ]
        }
      ]
    },
    {
      "cell_type": "code",
      "source": [
        "bike.groupby('name').agg({'km_driven': 'mean'}).show()"
      ],
      "metadata": {
        "colab": {
          "base_uri": "https://localhost:8080/"
        },
        "id": "SG66FcjO16jy",
        "outputId": "4440a0df-ed87-4d1c-b063-7b5d33d579b1"
      },
      "execution_count": null,
      "outputs": [
        {
          "output_type": "stream",
          "name": "stdout",
          "text": [
            "+--------------------+------------------+\n",
            "|                name|    avg(km_driven)|\n",
            "+--------------------+------------------+\n",
            "|           Hero Hunk|           41400.0|\n",
            "|            TVS Wego|           29250.0|\n",
            "|     Honda Activa 5G|10935.583333333334|\n",
            "|Bajaj Avenger Cru...|            7687.5|\n",
            "|         TVS Max DLX|           28000.0|\n",
            "|         Honda Shine|           34223.2|\n",
            "|   Yamaha FZ S V 2.0|           27475.0|\n",
            "|Hero Splendor iSmart|13018.333333333334|\n",
            "|Royal Enfield Thu...| 7466.666666666667|\n",
            "|Honda Activa i [2...|           20000.0|\n",
            "|Royal Enfield Cla...|            7500.0|\n",
            "|Royal Enfield Cla...|           25000.0|\n",
            "|      TVS Victor GLX|           30000.0|\n",
            "|  UM Renegade Mojave|            1400.0|\n",
            "|        Vespa LX 125|            3909.0|\n",
            "|           Activa 4g|            1300.0|\n",
            "|          TVS Victor|50566.666666666664|\n",
            "|        Yamaha RX135|           16500.0|\n",
            "|Royal Enfield Thu...|19506.684210526317|\n",
            "|      Hyosung GT250R|           16500.0|\n",
            "+--------------------+------------------+\n",
            "only showing top 20 rows\n",
            "\n"
          ]
        }
      ]
    },
    {
      "cell_type": "code",
      "source": [
        "bike.groupby('name').count().show()"
      ],
      "metadata": {
        "colab": {
          "base_uri": "https://localhost:8080/"
        },
        "id": "rQsPbd_p3Aab",
        "outputId": "28e54b94-3ea2-4f48-916b-0b6ae3fa6dad"
      },
      "execution_count": null,
      "outputs": [
        {
          "output_type": "stream",
          "name": "stdout",
          "text": [
            "+--------------------+-----+\n",
            "|                name|count|\n",
            "+--------------------+-----+\n",
            "|           Hero Hunk|    5|\n",
            "|            TVS Wego|    4|\n",
            "|     Honda Activa 5G|   12|\n",
            "|Bajaj Avenger Cru...|    4|\n",
            "|         TVS Max DLX|    1|\n",
            "|         Honda Shine|   15|\n",
            "|   Yamaha FZ S V 2.0|   16|\n",
            "|Hero Splendor iSmart|    3|\n",
            "|Royal Enfield Thu...|    3|\n",
            "|Honda Activa i [2...|    3|\n",
            "|Royal Enfield Cla...|    1|\n",
            "|Royal Enfield Cla...|    1|\n",
            "|      TVS Victor GLX|    2|\n",
            "|  UM Renegade Mojave|    1|\n",
            "|        Vespa LX 125|    1|\n",
            "|           Activa 4g|    1|\n",
            "|          TVS Victor|    3|\n",
            "|        Yamaha RX135|    1|\n",
            "|Royal Enfield Thu...|   19|\n",
            "|      Hyosung GT250R|    1|\n",
            "+--------------------+-----+\n",
            "only showing top 20 rows\n",
            "\n"
          ]
        }
      ]
    },
    {
      "cell_type": "code",
      "source": [
        "bike.groupby('year').count().show()"
      ],
      "metadata": {
        "colab": {
          "base_uri": "https://localhost:8080/"
        },
        "id": "_W5za4KB3IN5",
        "outputId": "72e94559-d67b-4fd7-9934-f596e39bdff6"
      },
      "execution_count": null,
      "outputs": [
        {
          "output_type": "stream",
          "name": "stdout",
          "text": [
            "+----+-----+\n",
            "|year|count|\n",
            "+----+-----+\n",
            "|2003|    1|\n",
            "|2007|   29|\n",
            "|2018|  131|\n",
            "|2015|  100|\n",
            "|2006|   20|\n",
            "|2013|   73|\n",
            "|1997|    2|\n",
            "|1988|    1|\n",
            "|2014|   91|\n",
            "|2019|   86|\n",
            "|2004|    5|\n",
            "|1991|    1|\n",
            "|1998|    3|\n",
            "|2020|    3|\n",
            "|2012|   70|\n",
            "|2009|   28|\n",
            "|2016|  107|\n",
            "|1995|    1|\n",
            "|2001|    2|\n",
            "|2005|   14|\n",
            "+----+-----+\n",
            "only showing top 20 rows\n",
            "\n"
          ]
        }
      ]
    },
    {
      "cell_type": "code",
      "source": [
        "bike.groupby('owner').count().show()"
      ],
      "metadata": {
        "colab": {
          "base_uri": "https://localhost:8080/"
        },
        "id": "WfUxgOhO3KZT",
        "outputId": "5ca5ee17-21f1-4fd3-b3dd-9736787cdfbd"
      },
      "execution_count": null,
      "outputs": [
        {
          "output_type": "stream",
          "name": "stdout",
          "text": [
            "+---------+-----+\n",
            "|    owner|count|\n",
            "+---------+-----+\n",
            "|2nd owner|  123|\n",
            "|4th owner|    3|\n",
            "|3rd owner|   11|\n",
            "|1st owner|  924|\n",
            "+---------+-----+\n",
            "\n"
          ]
        }
      ]
    }
  ]
}